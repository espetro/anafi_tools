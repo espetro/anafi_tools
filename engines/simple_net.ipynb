{
 "cells": [
  {
   "cell_type": "code",
   "execution_count": 3,
   "metadata": {},
   "outputs": [],
   "source": [
    "from ast import literal_eval as leval\n",
    "\n",
    "import pandas as pd\n",
    "import numpy as np\n",
    "import os\n",
    "import sys"
   ]
  },
  {
   "cell_type": "code",
   "execution_count": 58,
   "metadata": {},
   "outputs": [],
   "source": [
    "data_folder = \"/home/pachacho/Documents/anafi_tools/data/train\"\n",
    "data_A = data_folder + \"/A\"\n",
    "\n",
    "START_SEC = 16\n",
    "\n",
    "data_files = dict()\n",
    "for fname in [f for f in os.listdir(data_A) if \".csv\" in f]:\n",
    "    fdata = pd.read_csv(data_A + \"/\" + fname, sep=\",\", engine=\"python\")\n",
    "    fdata = fdata[fdata[\"ts\"] >= START_SEC]\n",
    "    \n",
    "    fdata[\"dr_pos\"] = fdata[\"dr_pos\"].apply(lambda x: leval(x))\n",
    "    fdata[\"dr_vel\"] = fdata[\"dr_vel\"].apply(lambda x: leval(x))\n",
    "    fdata[\"dr_acc\"] = fdata[\"dr_acc\"].apply(lambda x: leval(x))\n",
    "    fdata[\"sub_pos\"] = fdata[\"sub_pos\"].apply(lambda x: leval(x))\n",
    "    \n",
    "    data_files.update({\n",
    "        # (guess, input, raw)\n",
    "        fname: (fdata[[\"sub_pos\"]], fdata[[\"dr_pos\", \"dr_vel\", \"dr_acc\"]], fdata)\n",
    "    })"
   ]
  },
  {
   "cell_type": "code",
   "execution_count": 60,
   "metadata": {},
   "outputs": [],
   "source": [
    "d1 = list(data_files.values())[0]\n",
    "Y, X, _ = d1"
   ]
  },
  {
   "cell_type": "code",
   "execution_count": 61,
   "metadata": {},
   "outputs": [
    {
     "data": {
      "text/html": [
       "<div>\n",
       "<style scoped>\n",
       "    .dataframe tbody tr th:only-of-type {\n",
       "        vertical-align: middle;\n",
       "    }\n",
       "\n",
       "    .dataframe tbody tr th {\n",
       "        vertical-align: top;\n",
       "    }\n",
       "\n",
       "    .dataframe thead th {\n",
       "        text-align: right;\n",
       "    }\n",
       "</style>\n",
       "<table border=\"1\" class=\"dataframe\">\n",
       "  <thead>\n",
       "    <tr style=\"text-align: right;\">\n",
       "      <th></th>\n",
       "      <th>dr_pos</th>\n",
       "      <th>dr_vel</th>\n",
       "      <th>dr_acc</th>\n",
       "    </tr>\n",
       "  </thead>\n",
       "  <tbody>\n",
       "    <tr>\n",
       "      <th>5</th>\n",
       "      <td>[11.901113512045015, 1.0176555326722656, 6.099...</td>\n",
       "      <td>[0.06962387915469458, -0.0028413974873836875, ...</td>\n",
       "      <td>[-0.099485383042483, -0.0385067290599346, -0.0...</td>\n",
       "    </tr>\n",
       "    <tr>\n",
       "      <th>6</th>\n",
       "      <td>[11.930437141260942, 1.014402470768125, 6.1101...</td>\n",
       "      <td>[0.0005271830113182862, -0.001977849881605827,...</td>\n",
       "      <td>[-0.041871704316000236, -0.014872124562196037,...</td>\n",
       "    </tr>\n",
       "  </tbody>\n",
       "</table>\n",
       "</div>"
      ],
      "text/plain": [
       "                                              dr_pos  \\\n",
       "5  [11.901113512045015, 1.0176555326722656, 6.099...   \n",
       "6  [11.930437141260942, 1.014402470768125, 6.1101...   \n",
       "\n",
       "                                              dr_vel  \\\n",
       "5  [0.06962387915469458, -0.0028413974873836875, ...   \n",
       "6  [0.0005271830113182862, -0.001977849881605827,...   \n",
       "\n",
       "                                              dr_acc  \n",
       "5  [-0.099485383042483, -0.0385067290599346, -0.0...  \n",
       "6  [-0.041871704316000236, -0.014872124562196037,...  "
      ]
     },
     "execution_count": 61,
     "metadata": {},
     "output_type": "execute_result"
    }
   ],
   "source": [
    "X.head(2)"
   ]
  },
  {
   "cell_type": "code",
   "execution_count": 62,
   "metadata": {},
   "outputs": [
    {
     "data": {
      "text/html": [
       "<div>\n",
       "<style scoped>\n",
       "    .dataframe tbody tr th:only-of-type {\n",
       "        vertical-align: middle;\n",
       "    }\n",
       "\n",
       "    .dataframe tbody tr th {\n",
       "        vertical-align: top;\n",
       "    }\n",
       "\n",
       "    .dataframe thead th {\n",
       "        text-align: right;\n",
       "    }\n",
       "</style>\n",
       "<table border=\"1\" class=\"dataframe\">\n",
       "  <thead>\n",
       "    <tr style=\"text-align: right;\">\n",
       "      <th></th>\n",
       "      <th>sub_pos</th>\n",
       "    </tr>\n",
       "  </thead>\n",
       "  <tbody>\n",
       "    <tr>\n",
       "      <th>5</th>\n",
       "      <td>[11.0001108125, 1.0549999999996043, 5.992165875]</td>\n",
       "    </tr>\n",
       "    <tr>\n",
       "      <th>6</th>\n",
       "      <td>[11.073249982496, 1.05, 5.345462515008]</td>\n",
       "    </tr>\n",
       "  </tbody>\n",
       "</table>\n",
       "</div>"
      ],
      "text/plain": [
       "                                            sub_pos\n",
       "5  [11.0001108125, 1.0549999999996043, 5.992165875]\n",
       "6           [11.073249982496, 1.05, 5.345462515008]"
      ]
     },
     "execution_count": 62,
     "metadata": {},
     "output_type": "execute_result"
    }
   ],
   "source": [
    "Y.head(2)"
   ]
  },
  {
   "cell_type": "code",
   "execution_count": null,
   "metadata": {},
   "outputs": [],
   "source": []
  },
  {
   "cell_type": "markdown",
   "metadata": {},
   "source": [
    "---"
   ]
  },
  {
   "cell_type": "code",
   "execution_count": 1,
   "metadata": {},
   "outputs": [
    {
     "name": "stderr",
     "output_type": "stream",
     "text": [
      "Using TensorFlow backend.\n"
     ]
    }
   ],
   "source": [
    "from keras.models import Sequential\n",
    "from keras.layers import LSTM\n",
    "\n",
    "model = Sequential()\n",
    "model.add()"
   ]
  }
 ],
 "metadata": {
  "kernelspec": {
   "display_name": "Python 3",
   "language": "python",
   "name": "python3"
  },
  "language_info": {
   "codemirror_mode": {
    "name": "ipython",
    "version": 3
   },
   "file_extension": ".py",
   "mimetype": "text/x-python",
   "name": "python",
   "nbconvert_exporter": "python",
   "pygments_lexer": "ipython3",
   "version": "3.5.2"
  }
 },
 "nbformat": 4,
 "nbformat_minor": 4
}
