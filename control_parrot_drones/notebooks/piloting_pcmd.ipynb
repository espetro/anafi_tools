{
 "cells": [
  {
   "cell_type": "code",
   "execution_count": 1,
   "metadata": {},
   "outputs": [],
   "source": [
    "import olympe\n",
    "from olympe.messages.ardrone3.GPSSettingsState import GPSFixStateChanged\n",
    "from olympe.messages.ardrone3.Piloting import TakeOff, Landing\n",
    "from olympe.messages.ardrone3.PilotingState import FlyingStateChanged"
   ]
  },
  {
   "cell_type": "code",
   "execution_count": 10,
   "metadata": {},
   "outputs": [],
   "source": [
    "def _takeoff(drone):\n",
    "    \"\"\"\"\"\"\n",
    "    print(\"Takeoff if necessary...\")\n",
    "    drone(\n",
    "        FlyingStateChanged(state=\"hovering\", _policy=\"check\")\n",
    "        | FlyingStateChanged(state=\"flying\", _policy=\"check\")\n",
    "        | (\n",
    "            GPSFixStateChanged(fixed=1, _timeout=10, _policy=\"check_wait\")\n",
    "            >> (\n",
    "                TakeOff(_no_expect=True)\n",
    "                & FlyingStateChanged(\n",
    "                    state=\"hovering\", _timeout=10, _policy=\"check_wait\")\n",
    "            )\n",
    "        )\n",
    "    ).wait()\n",
    "\n",
    "def _land(drone):\n",
    "    \"\"\"Lands the drone\"\"\"\n",
    "    print(\"Landing...\")\n",
    "    drone(\n",
    "        Landing()\n",
    "        >> FlyingStateChanged(state=\"landed\", _timeout=5)\n",
    "    ).wait()"
   ]
  },
  {
   "cell_type": "code",
   "execution_count": 3,
   "metadata": {},
   "outputs": [],
   "source": [
    "PHYSICAL_IP = \"192.168.42.1\"\n",
    "SIMULATED_IP = \"10.202.0.1\"\n",
    "\n",
    "drone = olympe.Drone(SIMULATED_IP, loglevel=1)"
   ]
  },
  {
   "cell_type": "code",
   "execution_count": 4,
   "metadata": {},
   "outputs": [
    {
     "data": {
      "text/plain": [
       "ReturnTuple(OK=True, message='Piloting interface has been correctly launched', value=None, error_code=0)"
      ]
     },
     "execution_count": 4,
     "metadata": {},
     "output_type": "execute_result"
    }
   ],
   "source": [
    "drone.connection()\n",
    "drone.start_piloting()"
   ]
  },
  {
   "cell_type": "code",
   "execution_count": 40,
   "metadata": {},
   "outputs": [
    {
     "name": "stdout",
     "output_type": "stream",
     "text": [
      "Takeoff if necessary...\n"
     ]
    }
   ],
   "source": [
    "_takeoff(drone)"
   ]
  },
  {
   "cell_type": "code",
   "execution_count": 16,
   "metadata": {},
   "outputs": [
    {
     "data": {
      "text/plain": [
       "ReturnTuple(OK=True, message='Piloting PCMD mode OK', value=None, error_code=0)"
      ]
     },
     "execution_count": 16,
     "metadata": {},
     "output_type": "execute_result"
    }
   ],
   "source": [
    "drone.piloting_pcmd(1,0,0,0,1)"
   ]
  },
  {
   "cell_type": "code",
   "execution_count": 45,
   "metadata": {},
   "outputs": [
    {
     "data": {
      "text/plain": [
       "ReturnTuple(OK=True, message='Piloting PCMD mode OK', value=None, error_code=0)"
      ]
     },
     "execution_count": 45,
     "metadata": {},
     "output_type": "execute_result"
    },
    {
     "ename": "TypeError",
     "evalue": "int expected instead of float",
     "output_type": "error",
     "traceback": [
      "\u001b[0;31m---------------------------------------------------------------------------\u001b[0m",
      "\u001b[0;31mTypeError\u001b[0m                                 Traceback (most recent call last)",
      "\u001b[0;32m_ctypes/callbacks.c\u001b[0m in \u001b[0;36m'calling callback function'\u001b[0;34m()\u001b[0m\n",
      "\u001b[0;32m~/Documents/parrot/groundsdk/packages/olympe/src/olympe/_private/pomp_loop_thread.py\u001b[0m in \u001b[0;36m<lambda>\u001b[0;34m(*args)\u001b[0m\n\u001b[1;32m    326\u001b[0m \u001b[0;34m\u001b[0m\u001b[0m\n\u001b[1;32m    327\u001b[0m         pomp_callback = od.pomp_timer_cb_t(\n\u001b[0;32m--> 328\u001b[0;31m             lambda *args: callback(*args))\n\u001b[0m\u001b[1;32m    329\u001b[0m \u001b[0;34m\u001b[0m\u001b[0m\n\u001b[1;32m    330\u001b[0m         pomp_timer = od.pomp_timer_new(\n",
      "\u001b[0;32m~/Documents/parrot/groundsdk/packages/olympe/src/olympe/arsdkng/drone.py\u001b[0m in \u001b[0;36m_piloting_timer_cb\u001b[0;34m(self, timer, _user_data)\u001b[0m\n\u001b[1;32m    489\u001b[0m             \u001b[0mself\u001b[0m\u001b[0;34m.\u001b[0m\u001b[0mlogging\u001b[0m\u001b[0;34m.\u001b[0m\u001b[0mlogD\u001b[0m\u001b[0;34m(\u001b[0m\u001b[0;34m\"Loop timer callback: {}\"\u001b[0m\u001b[0;34m.\u001b[0m\u001b[0mformat\u001b[0m\u001b[0;34m(\u001b[0m\u001b[0mtimer\u001b[0m\u001b[0;34m)\u001b[0m\u001b[0;34m)\u001b[0m\u001b[0;34m\u001b[0m\u001b[0m\n\u001b[1;32m    490\u001b[0m             \u001b[0;32mif\u001b[0m \u001b[0mself\u001b[0m\u001b[0;34m.\u001b[0m\u001b[0m_controller_state\u001b[0m\u001b[0;34m.\u001b[0m\u001b[0mdevice_conn_status\u001b[0m\u001b[0;34m.\u001b[0m\u001b[0mconnected\u001b[0m\u001b[0;34m:\u001b[0m\u001b[0;34m\u001b[0m\u001b[0m\n\u001b[0;32m--> 491\u001b[0;31m                 \u001b[0mself\u001b[0m\u001b[0;34m.\u001b[0m\u001b[0m_send_piloting_command\u001b[0m\u001b[0;34m(\u001b[0m\u001b[0;34m)\u001b[0m\u001b[0;34m\u001b[0m\u001b[0m\n\u001b[0m\u001b[1;32m    492\u001b[0m \u001b[0;34m\u001b[0m\u001b[0m\n\u001b[1;32m    493\u001b[0m     \u001b[0;32mdef\u001b[0m \u001b[0m_dispose_cmd_cb\u001b[0m\u001b[0;34m(\u001b[0m\u001b[0mself\u001b[0m\u001b[0;34m,\u001b[0m \u001b[0m_interface\u001b[0m\u001b[0;34m,\u001b[0m \u001b[0m_user_data\u001b[0m\u001b[0;34m)\u001b[0m\u001b[0;34m:\u001b[0m\u001b[0;34m\u001b[0m\u001b[0m\n",
      "\u001b[0;32m~/Documents/parrot/groundsdk/packages/olympe/src/olympe/arsdkng/drone.py\u001b[0m in \u001b[0;36m_send_piloting_command\u001b[0;34m(self)\u001b[0m\n\u001b[1;32m    927\u001b[0m                 \u001b[0mctypes\u001b[0m\u001b[0;34m.\u001b[0m\u001b[0mpointer\u001b[0m\u001b[0;34m(\u001b[0m\u001b[0mcommand_desc\u001b[0m\u001b[0;34m)\u001b[0m\u001b[0;34m,\u001b[0m\u001b[0;34m\u001b[0m\u001b[0m\n\u001b[1;32m    928\u001b[0m                 \u001b[0mctypes\u001b[0m\u001b[0;34m.\u001b[0m\u001b[0mc_uint8\u001b[0m\u001b[0;34m(\u001b[0m\u001b[0mactivate_movement\u001b[0m\u001b[0;34m)\u001b[0m\u001b[0;34m,\u001b[0m\u001b[0;34m\u001b[0m\u001b[0m\n\u001b[0;32m--> 929\u001b[0;31m                 \u001b[0mctypes\u001b[0m\u001b[0;34m.\u001b[0m\u001b[0mc_int8\u001b[0m\u001b[0;34m(\u001b[0m\u001b[0mself\u001b[0m\u001b[0;34m.\u001b[0m\u001b[0m_controller_state\u001b[0m\u001b[0;34m.\u001b[0m\u001b[0mpiloting_command\u001b[0m\u001b[0;34m.\u001b[0m\u001b[0mroll\u001b[0m\u001b[0;34m)\u001b[0m\u001b[0;34m,\u001b[0m\u001b[0;34m\u001b[0m\u001b[0m\n\u001b[0m\u001b[1;32m    930\u001b[0m                 \u001b[0mctypes\u001b[0m\u001b[0;34m.\u001b[0m\u001b[0mc_int8\u001b[0m\u001b[0;34m(\u001b[0m\u001b[0mself\u001b[0m\u001b[0;34m.\u001b[0m\u001b[0m_controller_state\u001b[0m\u001b[0;34m.\u001b[0m\u001b[0mpiloting_command\u001b[0m\u001b[0;34m.\u001b[0m\u001b[0mpitch\u001b[0m\u001b[0;34m)\u001b[0m\u001b[0;34m,\u001b[0m\u001b[0;34m\u001b[0m\u001b[0m\n\u001b[1;32m    931\u001b[0m                 \u001b[0mctypes\u001b[0m\u001b[0;34m.\u001b[0m\u001b[0mc_int8\u001b[0m\u001b[0;34m(\u001b[0m\u001b[0mself\u001b[0m\u001b[0;34m.\u001b[0m\u001b[0m_controller_state\u001b[0m\u001b[0;34m.\u001b[0m\u001b[0mpiloting_command\u001b[0m\u001b[0;34m.\u001b[0m\u001b[0myaw\u001b[0m\u001b[0;34m)\u001b[0m\u001b[0;34m,\u001b[0m\u001b[0;34m\u001b[0m\u001b[0m\n",
      "\u001b[0;31mTypeError\u001b[0m: int expected instead of float"
     ]
    }
   ],
   "source": [
    "# it doesn't accepts float values\n",
    "drone.piloting_pcmd(99.5,0,0,0,0.5)"
   ]
  },
  {
   "cell_type": "code",
   "execution_count": 26,
   "metadata": {},
   "outputs": [
    {
     "data": {
      "text/plain": [
       "ReturnTuple(OK=True, message='Piloting PCMD mode OK', value=None, error_code=0)"
      ]
     },
     "execution_count": 26,
     "metadata": {},
     "output_type": "execute_result"
    }
   ],
   "source": [
    "# sides\n",
    "drone.piloting_pcmd(50,0,0,0,0.5)"
   ]
  },
  {
   "cell_type": "code",
   "execution_count": null,
   "metadata": {},
   "outputs": [],
   "source": [
    "# front-back\n",
    "drone.piloting_pcmd(0,100,0,0,0.4)"
   ]
  },
  {
   "cell_type": "code",
   "execution_count": 35,
   "metadata": {},
   "outputs": [
    {
     "data": {
      "text/plain": [
       "ReturnTuple(OK=True, message='Piloting PCMD mode OK', value=None, error_code=0)"
      ]
     },
     "execution_count": 35,
     "metadata": {},
     "output_type": "execute_result"
    }
   ],
   "source": [
    "# sideturns\n",
    "drone.piloting_pcmd(0,0,-100,0,0.4)"
   ]
  },
  {
   "cell_type": "code",
   "execution_count": 38,
   "metadata": {},
   "outputs": [
    {
     "data": {
      "text/plain": [
       "ReturnTuple(OK=True, message='Piloting PCMD mode OK', value=None, error_code=0)"
      ]
     },
     "execution_count": 38,
     "metadata": {},
     "output_type": "execute_result"
    }
   ],
   "source": [
    "# up-down\n",
    "drone.piloting_pcmd(0,0,0,-100,0.4)"
   ]
  },
  {
   "cell_type": "code",
   "execution_count": 46,
   "metadata": {},
   "outputs": [
    {
     "name": "stdout",
     "output_type": "stream",
     "text": [
      "Landing...\n"
     ]
    }
   ],
   "source": [
    "_land(drone)"
   ]
  }
 ],
 "metadata": {
  "kernelspec": {
   "display_name": "Python 3",
   "language": "python",
   "name": "python3"
  },
  "language_info": {
   "codemirror_mode": {
    "name": "ipython",
    "version": 3
   },
   "file_extension": ".py",
   "mimetype": "text/x-python",
   "name": "python",
   "nbconvert_exporter": "python",
   "pygments_lexer": "ipython3",
   "version": "3.5.2"
  }
 },
 "nbformat": 4,
 "nbformat_minor": 4
}
